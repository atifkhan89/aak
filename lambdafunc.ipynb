{
 "cells": [
  {
   "cell_type": "code",
   "execution_count": 8,
   "id": "204d0880-61a2-4ab4-b133-c99e57d307f5",
   "metadata": {},
   "outputs": [
    {
     "name": "stdout",
     "output_type": "stream",
     "text": [
      "35\n"
     ]
    }
   ],
   "source": [
    "fun= lambda x: x+25\n",
    "print(fun(10))\n"
   ]
  },
  {
   "cell_type": "code",
   "execution_count": null,
   "id": "be8bbc11-af1f-40e9-8c74-d3f5734cf397",
   "metadata": {},
   "outputs": [],
   "source": []
  }
 ],
 "metadata": {
  "kernelspec": {
   "display_name": "Python 3 (ipykernel)",
   "language": "python",
   "name": "python3"
  },
  "language_info": {
   "codemirror_mode": {
    "name": "ipython",
    "version": 3
   },
   "file_extension": ".py",
   "mimetype": "text/x-python",
   "name": "python",
   "nbconvert_exporter": "python",
   "pygments_lexer": "ipython3",
   "version": "3.10.0"
  }
 },
 "nbformat": 4,
 "nbformat_minor": 5
}
