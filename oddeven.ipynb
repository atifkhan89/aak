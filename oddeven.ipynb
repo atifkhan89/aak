{
 "cells": [
  {
   "cell_type": "code",
   "execution_count": null,
   "id": "46a3c48d-b2cb-4ed3-b7f0-267d6c69a6ae",
   "metadata": {},
   "outputs": [],
   "source": [
    "number= (1, 2, 3, 4, 5, 6, 7, 8, 9) \n",
    "count_odd=0\n",
    "count_even=0\n",
    "for i in number:\n",
    "    if i%2==0:\n",
    "        count_even=+count_even"
   ]
  }
 ],
 "metadata": {
  "kernelspec": {
   "display_name": "Python 3 (ipykernel)",
   "language": "python",
   "name": "python3"
  },
  "language_info": {
   "codemirror_mode": {
    "name": "ipython",
    "version": 3
   },
   "file_extension": ".py",
   "mimetype": "text/x-python",
   "name": "python",
   "nbconvert_exporter": "python",
   "pygments_lexer": "ipython3",
   "version": "3.10.0"
  }
 },
 "nbformat": 4,
 "nbformat_minor": 5
}
