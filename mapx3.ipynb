{
 "cells": [
  {
   "cell_type": "code",
   "execution_count": 5,
   "id": "3f864cbf-56a5-49ef-8747-e6699b78cd76",
   "metadata": {},
   "outputs": [
    {
     "name": "stdout",
     "output_type": "stream",
     "text": [
      "[3, 6, 9, 12, 15, 18, 21]\n"
     ]
    }
   ],
   "source": [
    "def fun2(n):\n",
    "    return n*3\n",
    "x= list(map(fun2,[1,2,3,4,5,6,7]))\n",
    "print(x)\n",
    "            "
   ]
  },
  {
   "cell_type": "markdown",
   "id": "953170a6-34c5-4eaf-828e-a42e756cc61a",
   "metadata": {},
   "source": []
  }
 ],
 "metadata": {
  "kernelspec": {
   "display_name": "Python 3 (ipykernel)",
   "language": "python",
   "name": "python3"
  },
  "language_info": {
   "codemirror_mode": {
    "name": "ipython",
    "version": 3
   },
   "file_extension": ".py",
   "mimetype": "text/x-python",
   "name": "python",
   "nbconvert_exporter": "python",
   "pygments_lexer": "ipython3",
   "version": "3.10.0"
  }
 },
 "nbformat": 4,
 "nbformat_minor": 5
}
