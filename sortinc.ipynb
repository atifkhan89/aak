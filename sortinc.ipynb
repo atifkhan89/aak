{
 "cells": [
  {
   "cell_type": "code",
   "execution_count": 1,
   "id": "d1f4064d-de07-4234-ab83-28ee3db0cfba",
   "metadata": {},
   "outputs": [
    {
     "name": "stdout",
     "output_type": "stream",
     "text": [
      "[(2, 1), (1, 2), (2, 3), (4, 4), (2, 5)]\n"
     ]
    }
   ],
   "source": [
    "my_list=[(2, 5), (1, 2), (4, 4), (2, 3), (2, 1)]\n",
    "l=len(my_list)\n",
    "for i in range(0,l):\n",
    "    for j in range(0,l-i-1):\n",
    "        if(my_list[j][1]>my_list[j+1][1]):\n",
    "            r=my_list[j]\n",
    "            my_list[j]=my_list[j+1]\n",
    "            my_list[j+1]=r\n",
    "print(my_list)\n",
    "            "
   ]
  },
  {
   "cell_type": "code",
   "execution_count": null,
   "id": "1affb796-9d08-4863-924c-cd0e90d4a0f6",
   "metadata": {},
   "outputs": [],
   "source": []
  }
 ],
 "metadata": {
  "kernelspec": {
   "display_name": "Python 3 (ipykernel)",
   "language": "python",
   "name": "python3"
  },
  "language_info": {
   "codemirror_mode": {
    "name": "ipython",
    "version": 3
   },
   "file_extension": ".py",
   "mimetype": "text/x-python",
   "name": "python",
   "nbconvert_exporter": "python",
   "pygments_lexer": "ipython3",
   "version": "3.10.0"
  }
 },
 "nbformat": 4,
 "nbformat_minor": 5
}
